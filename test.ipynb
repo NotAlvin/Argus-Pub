{
 "cells": [
  {
   "cell_type": "code",
   "execution_count": 1,
   "metadata": {},
   "outputs": [],
   "source": [
    "import os\n",
    "import pandas as pd\n",
    "import glob\n",
    "from datetime import datetime\n",
    "from bs4 import BeautifulSoup\n",
    "import requests\n",
    "import urllib\n",
    "\n",
    "selection = 'marketinsights'\n",
    "directory = \"./utils/data/Scraped News/\"\n",
    "file_pattern = f\"{selection}_data_*.csv\"\n",
    "files = glob.glob(os.path.join(directory, file_pattern))\n",
    "print(files)\n",
    "latest_file = max(files, key=os.path.getctime)\n",
    "print(latest_file)\n",
    "\n",
    "df = pd.read_csv(latest_file)\n",
    "df.head()"
   ]
  },
  {
   "cell_type": "code",
   "execution_count": 2,
   "metadata": {},
   "outputs": [
    {
     "name": "stdout",
     "output_type": "stream",
     "text": [
      "['./utils/data/Scraped News/marketinsights_data_2024-07-02.csv']\n",
      "./utils/data/Scraped News/marketinsights_data_2024-07-02.csv\n"
     ]
    }
   ],
   "source": [
    "selection = 'marketinsights'\n",
    "directory = \"./utils/data/Scraped News/\"\n",
    "file_pattern = f\"{selection}_data_*.csv\"\n",
    "files = glob.glob(os.path.join(directory, file_pattern))\n",
    "print(files)\n",
    "latest_file = max(files, key=os.path.getctime)\n",
    "print(latest_file)"
   ]
  },
  {
   "cell_type": "code",
   "execution_count": 1,
   "metadata": {},
   "outputs": [
    {
     "name": "stderr",
     "output_type": "stream",
     "text": [
      "/Users/launchpad/miniforge3/envs/neo4j/lib/python3.11/site-packages/tqdm/auto.py:21: TqdmWarning: IProgress not found. Please update jupyter and ipywidgets. See https://ipywidgets.readthedocs.io/en/stable/user_install.html\n",
      "  from .autonotebook import tqdm as notebook_tqdm\n"
     ]
    },
    {
     "ename": "",
     "evalue": "",
     "output_type": "error",
     "traceback": [
      "\u001b[1;31mThe Kernel crashed while executing code in the current cell or a previous cell. \n",
      "\u001b[1;31mPlease review the code in the cell(s) to identify a possible cause of the failure. \n",
      "\u001b[1;31mClick <a href='https://aka.ms/vscodeJupyterKernelCrash'>here</a> for more info. \n",
      "\u001b[1;31mView Jupyter <a href='command:jupyter.viewOutput'>log</a> for further details."
     ]
    }
   ],
   "source": [
    "from transformers import AutoTokenizer, AutoModelForSeq2SeqLM\n",
    "\n",
    "import warnings\n",
    "warnings.filterwarnings('ignore')\n",
    "\n",
    "tokenizer = AutoTokenizer.from_pretrained(\"kevinscaria/atsc_tk-instruct-base-def-pos-neg-neut-combined\")\n",
    "model = AutoModelForSeq2SeqLM.from_pretrained(\"kevinscaria/atsc_tk-instruct-base-def-pos-neg-neut-combined\")\n",
    "\n",
    "bos_instruction = \"\"\"Definition: The output will be 'positive' if the aspect identified in the sentence contains a positive sentiment. If the sentiment of the identified aspect in the input is negative the answer will be 'negative'. \n",
    "    Otherwise, the output should be 'neutral'. For aspects which are classified as noaspectterm, the sentiment is none.\n",
    "    Positive example 1-\n",
    "    input: With the great variety on the menu , I eat here often and never get bored. The aspect is menu.\n",
    "    output: positive\n",
    "    Positive example 2- \n",
    "    input: Great food, good size menu, great service and an unpretensious setting. The aspect is food.\n",
    "    output: positive\n",
    "    Negative example 1-\n",
    "    input: They did not have mayonnaise, forgot our toast, left out ingredients (ie cheese in an omelet), below hot temperatures and the bacon was so over cooked it crumbled on the plate when you touched it. The aspect is toast.\n",
    "    output: negative\n",
    "    Negative example 2-\n",
    "    input: The seats are uncomfortable if you are sitting against the wall on wooden benches. The aspect is seats.\n",
    "    output: negative\n",
    "    Neutral example 1-\n",
    "    input: I asked for seltzer with lime, no ice. The aspect is seltzer with lime.\n",
    "    output: neutral\n",
    "    Neutral example 2-\n",
    "    input: They wouldnt even let me finish my glass of wine before offering another. The aspect is glass of wine.\n",
    "    output: neutral\n",
    "    Now complete the following example-\n",
    "    input: \"\"\"\n",
    "delim_instruct = ' The aspect is '\n",
    "eos_instruct = '.\\noutput:'\n",
    "text = 'The cab ride was amazing but the driver was rude.'\n",
    "aspect_term = 'cab ride'\n",
    "\n",
    "tokenized_text = tokenizer(bos_instruction + text + delim_instruct + aspect_term + eos_instruct, return_tensors=\"pt\")\n",
    "output = model.generate(tokenized_text.input_ids)\n",
    "print(f'Model output for {aspect_term}: ', tokenizer.decode(output[0], skip_special_tokens=True))\n",
    "\n",
    "aspect_term = 'driver'\n",
    "tokenized_text = tokenizer(bos_instruction + text + delim_instruct + aspect_term + eos_instruct, return_tensors=\"pt\")\n",
    "output = model.generate(tokenized_text.input_ids)\n",
    "print(f'Model output for {aspect_term}: ', tokenizer.decode(output[0], skip_special_tokens=True))"
   ]
  },
  {
   "cell_type": "code",
   "execution_count": null,
   "metadata": {},
   "outputs": [],
   "source": []
  }
 ],
 "metadata": {
  "kernelspec": {
   "display_name": "neo4j",
   "language": "python",
   "name": "python3"
  },
  "language_info": {
   "codemirror_mode": {
    "name": "ipython",
    "version": 3
   },
   "file_extension": ".py",
   "mimetype": "text/x-python",
   "name": "python",
   "nbconvert_exporter": "python",
   "pygments_lexer": "ipython3",
   "version": "3.11.7"
  }
 },
 "nbformat": 4,
 "nbformat_minor": 2
}
