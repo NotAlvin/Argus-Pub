{
 "cells": [
  {
   "cell_type": "code",
   "execution_count": 12,
   "metadata": {},
   "outputs": [],
   "source": [
    "import os\n",
    "import pandas as pd\n",
    "import glob\n",
    "from datetime import datetime"
   ]
  },
  {
   "cell_type": "code",
   "execution_count": 17,
   "metadata": {},
   "outputs": [
    {
     "name": "stdout",
     "output_type": "stream",
     "text": [
      "['./utils/data/Scraped News/cnbc_data_2024-06-28.csv']\n",
      "./utils/data/Scraped News/cnbc_data_2024-06-28.csv\n"
     ]
    }
   ],
   "source": [
    "selection = 'cnbc'\n",
    "directory = \"./utils/data/Scraped News/\"\n",
    "file_pattern = f\"{selection}_data_*.csv\"\n",
    "files = glob.glob(os.path.join(directory, file_pattern))\n",
    "print(files)\n",
    "latest_file = max(files, key=os.path.getctime)\n",
    "print(latest_file)\n",
    "    "
   ]
  },
  {
   "cell_type": "code",
   "execution_count": 20,
   "metadata": {},
   "outputs": [],
   "source": [
    "df = pd.read_csv(latest_file)\n",
    "def convert_yyyy_mm_dd_to_datetime(date_str):\n",
    "    return datetime.strptime(date_str, \"%Y-%m-%d\")\n",
    "df['Time'] = df['Date'].apply(convert_yyyy_mm_dd_to_datetime)\n",
    "df.to_csv(latest_file)"
   ]
  },
  {
   "cell_type": "code",
   "execution_count": 14,
   "metadata": {},
   "outputs": [],
   "source": [
    "from utils.marketinsights import safe_literal_eval\n",
    "df = pd.read_csv(latest_file)\n",
    "df['Managers'] = df['tables'].apply(lambda x: safe_literal_eval(x).get('Managers', []))\n",
    "df['Members of the board'] = df['tables'].apply(lambda x: safe_literal_eval(x).get('Members of the board', []))\n",
    "df['Shareholders'] = df['tables'].apply(lambda x: safe_literal_eval(x).get('Name', []))\n",
    "# Get the current date\n",
    "current_date = datetime.now().date()\n",
    "\n",
    "# Function to convert time strings to datetime using the current date\n",
    "def convert_time_to_datetime(time_str):\n",
    "    return datetime.strptime(f\"{current_date} {time_str}\", \"%Y-%m-%d %I:%M%p\")\n",
    "\n",
    "# Function to convert month-day strings to datetime\n",
    "def convert_month_day_to_datetime(date_str):\n",
    "    return datetime.strptime(date_str, \"%b. %d\").replace(year=datetime.now().year)\n",
    "\n",
    "# Apply the conversion functions\n",
    "df['Time'] = df['date'].apply(\n",
    "    lambda x: convert_time_to_datetime(x) if \":\" in x else convert_month_day_to_datetime(x)\n",
    ")"
   ]
  },
  {
   "cell_type": "code",
   "execution_count": 16,
   "metadata": {},
   "outputs": [],
   "source": [
    "df.to_csv(latest_file)"
   ]
  },
  {
   "cell_type": "code",
   "execution_count": null,
   "metadata": {},
   "outputs": [],
   "source": []
  }
 ],
 "metadata": {
  "kernelspec": {
   "display_name": "neo4j",
   "language": "python",
   "name": "python3"
  },
  "language_info": {
   "codemirror_mode": {
    "name": "ipython",
    "version": 3
   },
   "file_extension": ".py",
   "mimetype": "text/x-python",
   "name": "python",
   "nbconvert_exporter": "python",
   "pygments_lexer": "ipython3",
   "version": "3.11.7"
  }
 },
 "nbformat": 4,
 "nbformat_minor": 2
}
